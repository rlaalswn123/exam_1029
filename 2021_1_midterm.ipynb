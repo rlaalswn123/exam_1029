{
 "cells": [
  {
   "cell_type": "markdown",
   "metadata": {
    "Collapsed": "false"
   },
   "source": [
    "# 2021년 프로그래밍 실습 중간고사 (1분반)"
   ]
  },
  {
   "cell_type": "markdown",
   "metadata": {
    "Collapsed": "false"
   },
   "source": [
    "학번:"
   ]
  },
  {
   "cell_type": "markdown",
   "metadata": {
    "Collapsed": "false"
   },
   "source": [
    "이름:"
   ]
  },
  {
   "cell_type": "markdown",
   "metadata": {
    "Collapsed": "false"
   },
   "source": [
    "#### 코딩을 하고 실행 한 후, 저장한 다음, 해당 과제함에 제출하세요. 마감시간 내에 제출해야 합니다."
   ]
  },
  {
   "cell_type": "markdown",
   "metadata": {
    "Collapsed": "false"
   },
   "source": [
    "#### 만일 과제함 제출이 안되는 경우 이메일을 이용하여 kkim@hnu.kr 으로 보내세요. 마감시간 1분후까지 도착해야 합니다.  "
   ]
  },
  {
   "cell_type": "markdown",
   "metadata": {},
   "source": [
    "##### 고 득점자는 다시 시험을 보아 점수를 조정할 수 있습니다. (원 점수 + 재시 점수) / 2"
   ]
  },
  {
   "cell_type": "markdown",
   "metadata": {},
   "source": [
    " "
   ]
  },
  {
   "cell_type": "markdown",
   "metadata": {},
   "source": [
    "#### 1. \n",
    "#### for 문을 이용하여 구구단의 짝수곱 의 결과(즉, 2x2, 2x4, 2x6, 2x8, 3x2, 3x6, 3x8, ..., 9x2, 9x4, 9x6, 9x8)의 합을 계산하여 인쇄하는 프로그램을 작성하시오. (5점) "
   ]
  },
  {
   "cell_type": "code",
   "execution_count": null,
   "metadata": {},
   "outputs": [],
   "source": []
  },
  {
   "cell_type": "markdown",
   "metadata": {},
   "source": [
    "#### 2.  \n",
    "#### 1, 3, 7, 8, 9 중 서로 다른 두 개의 정수를 무작위로 선택하여 인쇄하는 프로그램을 작성하시오. (10점)"
   ]
  },
  {
   "cell_type": "code",
   "execution_count": null,
   "metadata": {},
   "outputs": [],
   "source": []
  },
  {
   "cell_type": "markdown",
   "metadata": {},
   "source": [
    "#### 3. \n",
    "#### 1 에서 100000 까지의 정수중에서 239 로 나눌 때 나머지가 149 이며, 일의 자리가 7 인 정수 중에서 가장 큰 수를 인쇄하는 프로그램을 작성하시오. (10점) "
   ]
  },
  {
   "cell_type": "code",
   "execution_count": null,
   "metadata": {},
   "outputs": [],
   "source": []
  },
  {
   "cell_type": "markdown",
   "metadata": {},
   "source": [
    "#### 4. \n",
    "#### 1 에서 1000 까지의 정수 중에서, 2의 배수이거나 3의 배수인 정수를 제외하되, 6의 배수는 포함하는 정수들의 합을 인쇄하는 프로그램을 작성하시오. (10점)\n",
    "#### 예) 1+5+6+7+10+11+12+13+ … 를 계산한 결과가 답이다. \n"
   ]
  },
  {
   "cell_type": "code",
   "execution_count": null,
   "metadata": {},
   "outputs": [],
   "source": []
  },
  {
   "cell_type": "markdown",
   "metadata": {},
   "source": [
    "#### 5. \n",
    "#### 0 부터 K 까지의 정수를 이용하여 (단, K > 0), K의 자리수 만큼을 갖도록 인쇄하는 함수 alpha(K)를 정의하시오. (10점)\n",
    "#### 예를 들어, alpha(500)을 실행하면, 500은 세자리 정수 이므로, 000, 001, 002, ... , 010, 011, ... , 500 까지 모두 세자리로 인쇄한다. "
   ]
  },
  {
   "cell_type": "code",
   "execution_count": null,
   "metadata": {},
   "outputs": [],
   "source": []
  }
 ],
 "metadata": {
  "kernelspec": {
   "display_name": "Python 3 (ipykernel)",
   "language": "python",
   "name": "python3"
  },
  "language_info": {
   "codemirror_mode": {
    "name": "ipython",
    "version": 3
   },
   "file_extension": ".py",
   "mimetype": "text/x-python",
   "name": "python",
   "nbconvert_exporter": "python",
   "pygments_lexer": "ipython3",
   "version": "3.7.6"
  }
 },
 "nbformat": 4,
 "nbformat_minor": 4
}
